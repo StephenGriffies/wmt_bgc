{
 "cells": [
  {
   "cell_type": "markdown",
   "metadata": {},
   "source": [
    "An attempt to calculate vertical velocity using continuity"
   ]
  },
  {
   "cell_type": "code",
   "execution_count": 1,
   "metadata": {},
   "outputs": [
    {
     "name": "stderr",
     "output_type": "stream",
     "text": [
      "/nbhome/gam/miniconda/envs/mom6/lib/python3.7/site-packages/dask/config.py:168: YAMLLoadWarning: calling yaml.load() without Loader=... is deprecated, as the default Loader is unsafe. Please read https://msg.pyyaml.org/load for full details.\n",
      "  data = yaml.load(f.read()) or {}\n",
      "/nbhome/gam/miniconda/envs/mom6/lib/python3.7/site-packages/distributed/config.py:20: YAMLLoadWarning: calling yaml.load() without Loader=... is deprecated, as the default Loader is unsafe. Please read https://msg.pyyaml.org/load for full details.\n",
      "  defaults = yaml.load(f)\n"
     ]
    }
   ],
   "source": [
    "import xarray as xr"
   ]
  },
  {
   "cell_type": "code",
   "execution_count": 2,
   "metadata": {},
   "outputs": [],
   "source": [
    "# Specify the location of the file\n",
    "rootdir = '/archive/oar.gfdl.cmip6/ESM4/DECK/ESM4_piControl_D/gfdl.ncrc4-intel16-prod-openmp/pp/'\n",
    "datadir = 'ocean_annual_z/av/annual_5yr/'\n",
    "filename = 'ocean_annual_z.0866-0870.ann.nc'"
   ]
  },
  {
   "cell_type": "code",
   "execution_count": 3,
   "metadata": {},
   "outputs": [
    {
     "name": "stderr",
     "output_type": "stream",
     "text": [
      "/nbhome/gam/miniconda/envs/mom6/lib/python3.7/site-packages/xarray/coding/times.py:122: SerializationWarning: Unable to decode time axis into full numpy.datetime64 objects, continuing using dummy cftime.datetime objects instead, reason: dates out of range\n",
      "  result = decode_cf_datetime(example_value, units, calendar)\n"
     ]
    }
   ],
   "source": [
    "ds = xr.open_dataset(rootdir+datadir+filename)"
   ]
  },
  {
   "cell_type": "code",
   "execution_count": 8,
   "metadata": {},
   "outputs": [],
   "source": [
    "du = ds.uh.diff(dim='xq')\n",
    "dv = ds.vh.diff(dim='yq')"
   ]
  },
  {
   "cell_type": "code",
   "execution_count": 12,
   "metadata": {},
   "outputs": [
    {
     "data": {
      "text/plain": [
       "<xarray.DataArray 'uh' (time: 1, z_l: 35, yh: 576, xq: 719)>\n",
       "array([[[[nan, ..., nan],\n",
       "         ...,\n",
       "         [nan, ..., nan]],\n",
       "\n",
       "        ...,\n",
       "\n",
       "        [[nan, ..., nan],\n",
       "         ...,\n",
       "         [nan, ..., nan]]]], dtype=float32)\n",
       "Coordinates:\n",
       "  * yh       (yh) float64 -77.91 -77.72 -77.54 -77.36 ... 89.47 89.68 89.89\n",
       "  * z_l      (z_l) float64 2.5 10.0 20.0 32.5 ... 5e+03 5.5e+03 6e+03 6.5e+03\n",
       "  * time     (time) object 0868-07-02 12:00:00\n",
       "  * xq       (xq) float64 -299.0 -298.5 -298.0 -297.5 ... 58.5 59.0 59.5 60.0"
      ]
     },
     "execution_count": 12,
     "metadata": {},
     "output_type": "execute_result"
    }
   ],
   "source": [
    "du"
   ]
  },
  {
   "cell_type": "code",
   "execution_count": 10,
   "metadata": {},
   "outputs": [
    {
     "data": {
      "text/plain": [
       "<xarray.Dataset>\n",
       "Dimensions:                         (nv: 2, time: 1, xh: 720, xq: 720, yh: 576, yq: 576, z_i: 36, z_l: 35)\n",
       "Coordinates:\n",
       "  * xh                              (xh) float64 -299.8 -299.2 ... 59.25 59.75\n",
       "  * yh                              (yh) float64 -77.91 -77.72 ... 89.68 89.89\n",
       "  * z_l                             (z_l) float64 2.5 10.0 ... 6e+03 6.5e+03\n",
       "  * z_i                             (z_i) float64 0.0 5.0 ... 6.25e+03 6.75e+03\n",
       "  * time                            (time) object 0868-07-02 12:00:00\n",
       "  * nv                              (nv) float64 1.0 2.0\n",
       "  * xq                              (xq) float64 -299.5 -299.0 ... 59.5 60.0\n",
       "  * yq                              (yq) float64 -77.82 -77.63 ... 89.79 90.0\n",
       "Data variables:\n",
       "    volcello                        (time, z_l, yh, xh) float32 ...\n",
       "    thetao                          (time, z_l, yh, xh) float32 ...\n",
       "    thetao_xyave                    (time, z_l) float32 ...\n",
       "    so                              (time, z_l, yh, xh) float32 ...\n",
       "    so_xyave                        (time, z_l) float32 ...\n",
       "    obvfsq                          (time, z_i, yh, xh) float32 ...\n",
       "    agessc                          (time, z_l, yh, xh) float32 ...\n",
       "    uo                              (time, z_l, yh, xq) float32 ...\n",
       "    vo                              (time, z_l, yq, xh) float32 ...\n",
       "    umo                             (time, z_l, yh, xq) float32 ...\n",
       "    vmo                             (time, z_l, yq, xh) float32 ...\n",
       "    uhml                            (time, z_l, yh, xq) float32 ...\n",
       "    vhml                            (time, z_l, yq, xh) float32 ...\n",
       "    uhGM                            (time, z_l, yh, xq) float32 ...\n",
       "    vhGM                            (time, z_l, yq, xh) float32 ...\n",
       "    uh                              (time, z_l, yh, xq) float32 ...\n",
       "    vh                              (time, z_l, yq, xh) float32 ...\n",
       "    T_adx                           (time, z_l, yh, xq) float32 ...\n",
       "    T_ady                           (time, z_l, yq, xh) float32 ...\n",
       "    S_adx                           (time, z_l, yh, xq) float32 ...\n",
       "    S_ady                           (time, z_l, yq, xh) float32 ...\n",
       "    rsdoabsorb                      (time, z_l, yh, xh) float32 ...\n",
       "    opottemptend                    (time, z_l, yh, xh) float32 ...\n",
       "    opottemppmdiff                  (time, z_l, yh, xh) float32 ...\n",
       "    opottempdiff                    (time, z_l, yh, xh) float32 ...\n",
       "    osalttend                       (time, z_l, yh, xh) float32 ...\n",
       "    osaltpmdiff                     (time, z_l, yh, xh) float32 ...\n",
       "    osaltdiff                       (time, z_l, yh, xh) float32 ...\n",
       "    frazil_heat_tendency            (time, z_l, yh, xh) float32 ...\n",
       "    T_advection_xy                  (time, z_l, yh, xh) float32 ...\n",
       "    S_advection_xy                  (time, z_l, yh, xh) float32 ...\n",
       "    Th_tendency_vert_remap          (time, z_l, yh, xh) float32 ...\n",
       "    Sh_tendency_vert_remap          (time, z_l, yh, xh) float32 ...\n",
       "    boundary_forcing_heat_tendency  (time, z_l, yh, xh) float32 ...\n",
       "    boundary_forcing_salt_tendency  (time, z_l, yh, xh) float32 ...\n",
       "    difvho                          (time, z_i, yh, xh) float32 ...\n",
       "    difvso                          (time, z_i, yh, xh) float32 ...\n",
       "    diftrblo                        (time, z_l, yh, xh) float32 ...\n",
       "    difmxybo                        (time, z_l, yh, xh) float32 ...\n",
       "    difmxylo                        (time, z_l, yh, xh) float32 ...\n",
       "    Kd_interface                    (time, z_i, yh, xh) float32 ...\n",
       "    Kd_shear                        (time, z_i, yh, xh) float32 ...\n",
       "    Kd_itides                       (time, z_i, yh, xh) float32 ...\n",
       "    Kd_BBL                          (time, z_i, yh, xh) float32 ...\n",
       "    Kd_ePBL                         (time, z_i, yh, xh) float32 ...\n",
       "    time_bnds                       (time, nv) object ...\n",
       "    average_T1                      (time) object ...\n",
       "    average_T2                      (time) object ...\n",
       "    average_DT                      (time) timedelta64[ns] ...\n",
       "Attributes:\n",
       "    filename:          ocean_annual_z.0866-0870.ann.nc\n",
       "    title:             ESM4_piControl_D\n",
       "    associated_files:  areacello: 08660101.ocean_static.nc\n",
       "    grid_type:         regular\n",
       "    grid_tile:         N/A\n",
       "    comment:           FMS time averaging, version 3.0, precision=double"
      ]
     },
     "execution_count": 10,
     "metadata": {},
     "output_type": "execute_result"
    }
   ],
   "source": [
    "ds"
   ]
  },
  {
   "cell_type": "code",
   "execution_count": null,
   "metadata": {},
   "outputs": [],
   "source": []
  }
 ],
 "metadata": {
  "kernelspec": {
   "display_name": "Python 3",
   "language": "python",
   "name": "python3"
  },
  "language_info": {
   "codemirror_mode": {
    "name": "ipython",
    "version": 3
   },
   "file_extension": ".py",
   "mimetype": "text/x-python",
   "name": "python",
   "nbconvert_exporter": "python",
   "pygments_lexer": "ipython3",
   "version": "3.7.2"
  }
 },
 "nbformat": 4,
 "nbformat_minor": 2
}

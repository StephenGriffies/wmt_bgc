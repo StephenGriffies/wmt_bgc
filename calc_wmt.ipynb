{
 "cells": [
  {
   "cell_type": "markdown",
   "metadata": {},
   "source": [
    "# Calculate watermass transformation\n",
    "From Groeskamp et al. (2019), equation 4:\n",
    "$$ G(\\lambda) = \\frac{\\partial}{\\partial \\lambda}\\iiint_{\\lambda'\\leq\\lambda}\\rho\\dot{\\lambda}dV $$\n",
    "\n",
    "For general vertical coordinate $s$, the conservation equation for tracer $C$ integrated over a layer is given by:\n",
    "$$\\int^{z_{k-1}}_{z_k}\\rho \\dot{C} dz = \\partial_t(\\rho C h) + \\nabla\\cdot (\\rho C \\mathbf{u} h) + \\Delta_k(\\rho C w^{(s)}) $$\n",
    "where $\\rho$ is the _in situ_ density, $\\rho_l$ is the locally referenced potential density, $\\mathbf{u}$ and $w^{(s)}$ are the along-layer and dia-surface residual velocities respectively, $\\Delta_k$ is a discrete difference operator in the vertical dimension, and $h$ is the layer thickness.\n",
    "\n",
    "Noting that $\\rho\\dot{\\rho_l} = \\rho_{l,\\theta}\\rho\\dot{\\theta} + \\rho_{l,S}\\rho\\dot{S}$, transformation across the locally referenced potential density surface can be written:\n",
    "$$ \\begin{align}\n",
    "G(\\rho_l) &= \\frac{\\partial}{\\partial \\rho_l} \\iint dA \\sum_{\\rho_l'\\leq \\rho_l} \\int^{z_{k-1}}_{z_k} \\rho \\dot{\\rho_l'} dz \\\\\n",
    "          &= \\frac{\\partial}{\\partial \\rho_l} \\iint dA \\sum_{\\rho_l'\\leq \\rho_l} \\big( \\rho_{l,\\theta}[\\partial_t(\\rho \\theta h) + \\nabla\\cdot (\\rho \\theta \\mathbf{u} h) + \\Delta_k(\\rho \\theta w^{(s)})] + \\rho_{l,S}[\\partial_t(\\rho S h) + \\nabla\\cdot (\\rho S \\mathbf{u} h) + \\Delta_k(\\rho S w^{(s)})] \\big)\n",
    "\\end{align}$$\n",
    "where we have made the asssumption that $\\rho_{l,\\theta}$ and $\\rho_{l,S}$ are constant within each layer."
   ]
  },
  {
   "cell_type": "code",
   "execution_count": 1,
   "metadata": {},
   "outputs": [],
   "source": [
    "import xarray as xr\n",
    "from matplotlib import pyplot as plt\n",
    "import budgetcalcs as bc"
   ]
  },
  {
   "cell_type": "code",
   "execution_count": 2,
   "metadata": {},
   "outputs": [
    {
     "name": "stderr",
     "output_type": "stream",
     "text": [
      "/nbhome/gam/miniconda/envs/mom6/lib/python3.7/site-packages/xarray/coding/times.py:419: SerializationWarning: Unable to decode time axis into full numpy.datetime64 objects, continuing using cftime.datetime objects instead, reason: dates out of range\n",
      "  self.use_cftime)\n"
     ]
    }
   ],
   "source": [
    "rootdir = '/archive/gam/ESM4/DECK/ESM4_piControl_D/gfdl.ncrc4-intel16-prod-openmp/history/'\n",
    "filename = '08500101.ocean_month_rho2.nc'\n",
    "ds = xr.open_dataset(rootdir+filename)\n",
    "\n",
    "filename_native = '08500101.ocean_month.nc'\n",
    "ds_native = xr.open_dataset(rootdir+filename_native)\n",
    "\n",
    "# Correct MOM6 tendencies to account for mass in cell\n",
    "# i.e. convert from [mol kg^-1 m s^-1] to [mol m^-2 s^-1]\n",
    "rho0=1035.0\n",
    "ds['o2h_tendency'] *= rho0\n",
    "ds['o2h_tendency_vert_remap'] *= rho0\n",
    "ds['o2_advection_xy'] *= rho0\n",
    "ds['o2_dfxy_cont_tendency'] *= rho0\n",
    "ds['o2_vdiffuse_impl'] *= rho0\n",
    "# Remove bottom boundary flux from jo2_plus_btm (already included in o2_vdiffuse_impl)\n",
    "# jo2_btm = xr.zeros_like(ds.jo2_plus_btm)\n",
    "# jo2_btm.loc[dict(zl=ds.zl.max())]=ds.o2_btf\n",
    "# jo2 = ds.jo2_plus_btm - jo2_btm\n",
    "# jo2.name = 'jo2'\n",
    "# ds = xr.merge([ds,jo2])"
   ]
  },
  {
   "cell_type": "code",
   "execution_count": 3,
   "metadata": {},
   "outputs": [],
   "source": [
    "# Calculate material derivative of heat\n",
    "termsLHS = ['opottemptend','T_advection_xy','Th_tendency_vert_remap']\n",
    "signsLHS = [-1,1,1]\n",
    "termsRHS = ['boundary_forcing_heat_tendency','internal_heat_tend_3d','opottempdiff','opottemppmdiff','frazil_heat_tendency']\n",
    "signsRHS = [1,1,1,1,1]\n",
    "Dheat, dheat, error_heat = bc.calc_materialderivative(ds,termsLHS,signsLHS,termsRHS,signsRHS,vertc='rho2_l',plot=False)"
   ]
  },
  {
   "cell_type": "code",
   "execution_count": 4,
   "metadata": {},
   "outputs": [],
   "source": [
    "# Calculate material derivate for salt\n",
    "termsLHS = ['osalttend','S_advection_xy','Sh_tendency_vert_remap']\n",
    "signsLHS = [-1,1,1]\n",
    "termsRHS = ['boundary_forcing_salt_tendency','osaltdiff','osaltpmdiff']\n",
    "signsRHS = [1,1,1]\n",
    "Dsalt, dsalt, error_salt = bc.calc_materialderivative(ds,termsLHS,signsLHS,termsRHS,signsRHS,plot=False)"
   ]
  },
  {
   "cell_type": "code",
   "execution_count": 5,
   "metadata": {},
   "outputs": [],
   "source": [
    "# Calculate material derivative for density\n",
    "Dheat = -1*Dheat\n",
    "Dsalt = -1*Dsalt\n",
    "Drho = -(ds.alpha/ds_native.rhozero)*Dheat/ds_native.C_p+(ds.beta/ds_native.rhozero)*Dsalt\n",
    "drho = -(ds.alpha/ds_native.rhozero)*dheat/ds_native.C_p+(ds.beta/ds_native.rhozero)*dsalt\n",
    "rhoDrho = ds.rhopot2*Drho\n",
    "rhodrho = ds.rhopot2*drho"
   ]
  },
  {
   "cell_type": "code",
   "execution_count": 6,
   "metadata": {},
   "outputs": [],
   "source": [
    "# Integrate tendencies in each layer\n",
    "# First, multiply density tendency by grid cell area\n",
    "area3d = ds_native.areacello*xr.ones_like(ds.temp) # Expand areas to 3D\n",
    "rhoDrho_cell = rhoDrho*area3d\n",
    "rhodrho_cell = rhodrho*area3d\n",
    "# Sum up in each layer\n",
    "rhoDrho_int = rhoDrho_cell.sum(dim=['xh','yh']).squeeze()\n",
    "rhodrho_int = rhodrho_cell.sum(dim=['xh','yh']).squeeze()"
   ]
  },
  {
   "cell_type": "code",
   "execution_count": 7,
   "metadata": {},
   "outputs": [],
   "source": [
    "# Divide by density interval\n",
    "# (and by Boussinesq reference density to convert to m3s-1)\n",
    "# (and by 1E6 to convert to Sv)\n",
    "dr = ds.rho2_i.diff(dim='rho2_i').rename({'rho2_i':'rho2_l'}).assign_coords(rho2_l=ds.rho2_l)\n",
    "G_D = rhoDrho_int/dr/ds_native.rhozero/1E6\n",
    "G_d = rhodrho_int/dr/ds_native.rhozero/1E6"
   ]
  },
  {
   "cell_type": "code",
   "execution_count": 8,
   "metadata": {},
   "outputs": [
    {
     "data": {
      "text/plain": [
       "[<matplotlib.lines.Line2D at 0x2ad8aea19d68>]"
      ]
     },
     "execution_count": 8,
     "metadata": {},
     "output_type": "execute_result"
    },
    {
     "data": {
      "image/png": "[encoded data removed]",
      "text/plain": [
       "<Figure size 432x288 with 1 Axes>"
      ]
     },
     "metadata": {
      "needs_background": "light"
     },
     "output_type": "display_data"
    }
   ],
   "source": [
    "G_D.plot()\n",
    "G_d.plot()"
   ]
  },
  {
   "cell_type": "code",
   "execution_count": null,
   "metadata": {},
   "outputs": [],
   "source": []
  }
 ],
 "metadata": {
  "kernelspec": {
   "display_name": "Python 3",
   "language": "python",
   "name": "python3"
  },
  "language_info": {
   "codemirror_mode": {
    "name": "ipython",
    "version": 3
   },
   "file_extension": ".py",
   "mimetype": "text/x-python",
   "name": "python",
   "nbconvert_exporter": "python",
   "pygments_lexer": "ipython3",
   "version": "3.7.3"
  }
 },
 "nbformat": 4,
 "nbformat_minor": 2
}
